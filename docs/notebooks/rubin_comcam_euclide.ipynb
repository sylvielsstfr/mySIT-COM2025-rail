{
 "cells": [
  {
   "cell_type": "markdown",
   "id": "a2f93ed2-4db4-4b55-bda8-37c7cc6cda10",
   "metadata": {},
   "source": [
    "# Work"
   ]
  },
  {
   "cell_type": "markdown",
   "id": "b4c228b0-ba42-4566-b6f4-b39e40a9a4c7",
   "metadata": {},
   "source": [
    "John Franklin Crenshaw\n",
    " \n",
    "- Okay I have finished cross-matching ComCam + Euclid + spectroscopic sets in ECDFS:\n",
    "- Everything lives inside /sdf/data/rubin/shared/pz/users/crenshaw/comcam_pz\n",
    "- The full cross-matched catalog is /sdf/data/rubin/shared/pz/users/crenshaw/comcam_pz/catalogs/comcam_euclid_spec.parquet\n",
    "- The spectroscopic training set is /sdf/data/rubin/shared/pz/users/crenshaw/comcam_pz/catalogs/dp1_comcam_euclid_spec_train.parquet\n",
    "- The spectroscopic test set is /sdf/data/rubin/shared/pz/users/crenshaw/comcam_pz/catalogs/dp1_comcam_euclid_spec_test.parquet\n",
    "- The photometric test set is /sdf/data/rubin/shared/pz/users/crenshaw/comcam_pz/catalogs/dp1_comcam_euclid_phot.parquet\n",
    "- You can see how I assembled the spectroscopic set in /sdf/data/rubin/shared/pz/users/crenshaw/comcam_pz/create_spec_cat.ipynb\n",
    "- You can see how I selected the ComCam data and cross-matched in /sdf/data/rubin/shared/pz/users/crenshaw/comcam_pz/crossmatch_with_comcam.ipynb\n",
    "\n",
    "Tomorrow I will add notebooks to our shared repo and make sure the external datasets get linked in the correct place, but for now I have to go\n",
    "Note the Euclid photometry is already corrected for galactic extinction. Also if the Euclid mag = inf, that means the flux was negative. NaN corresponds to no mag. (modifié) "
   ]
  },
  {
   "cell_type": "code",
   "execution_count": null,
   "id": "63b0d8f6-e042-4d93-b343-9162e6c0bace",
   "metadata": {
    "execution": {
     "iopub.execute_input": "2025-04-23T15:14:38.281672Z",
     "iopub.status.busy": "2025-04-23T15:14:38.280750Z",
     "iopub.status.idle": "2025-04-23T15:14:38.283781Z",
     "shell.execute_reply": "2025-04-23T15:14:38.283386Z",
     "shell.execute_reply.started": "2025-04-23T15:14:38.281652Z"
    }
   },
   "outputs": [],
   "source": [
    "path = \"/sdf/data/rubin/shared/pz/users/crenshaw/comcam_pz/catalogs\""
   ]
  },
  {
   "cell_type": "markdown",
   "id": "d3709616-f608-4f51-bb09-e5b049ab12b7",
   "metadata": {},
   "source": [
    "- comcam_euclid_spec.parquet\tdp1_comcam_euclid_spec_test.parquet   euclid_ecdfs.fits  specz_catalog_ecdfs_20250409.parquet\n",
    "- dp1_comcam_euclid_phot.parquet\tdp1_comcam_euclid_spec_train.parquet  euclid_edfs.fits"
   ]
  },
  {
   "cell_type": "code",
   "execution_count": null,
   "id": "6dbeb1d5-9609-4913-81ef-dcc0d8ff5b81",
   "metadata": {
    "execution": {
     "iopub.execute_input": "2025-04-23T15:20:14.604281Z",
     "iopub.status.busy": "2025-04-23T15:20:14.603950Z",
     "iopub.status.idle": "2025-04-23T15:20:15.903743Z",
     "shell.execute_reply": "2025-04-23T15:20:15.903240Z",
     "shell.execute_reply.started": "2025-04-23T15:20:14.604254Z"
    }
   },
   "outputs": [],
   "source": [
    "import os\n",
    "import tables_io\n",
    "import rail\n",
    "import qp\n",
    "import numpy as np\n",
    "import pandas as pd\n",
    "import matplotlib.pyplot as plt\n",
    "%matplotlib inline"
   ]
  },
  {
   "cell_type": "code",
   "execution_count": null,
   "id": "42ea5433-7baf-4616-a3b8-0da2342f064d",
   "metadata": {
    "execution": {
     "iopub.execute_input": "2025-04-23T15:20:46.306709Z",
     "iopub.status.busy": "2025-04-23T15:20:46.306489Z",
     "iopub.status.idle": "2025-04-23T15:20:46.309384Z",
     "shell.execute_reply": "2025-04-23T15:20:46.308998Z",
     "shell.execute_reply.started": "2025-04-23T15:20:46.306693Z"
    }
   },
   "outputs": [],
   "source": []
  },
  {
   "cell_type": "code",
   "execution_count": null,
   "id": "7e976163-ff93-4218-9140-fe6c290c0838",
   "metadata": {
    "execution": {
     "iopub.execute_input": "2025-04-23T15:23:35.358390Z",
     "iopub.status.busy": "2025-04-23T15:23:35.357457Z",
     "iopub.status.idle": "2025-04-23T15:23:35.761378Z",
     "shell.execute_reply": "2025-04-23T15:23:35.760816Z",
     "shell.execute_reply.started": "2025-04-23T15:23:35.358367Z"
    }
   },
   "outputs": [],
   "source": [
    "!ls $path"
   ]
  },
  {
   "cell_type": "code",
   "execution_count": null,
   "id": "90e8238b-5766-415c-ab01-0b63658f8f0a",
   "metadata": {
    "execution": {
     "iopub.execute_input": "2025-04-23T15:24:05.841697Z",
     "iopub.status.busy": "2025-04-23T15:24:05.840796Z",
     "iopub.status.idle": "2025-04-23T15:24:06.257059Z",
     "shell.execute_reply": "2025-04-23T15:24:06.256279Z",
     "shell.execute_reply.started": "2025-04-23T15:24:05.841672Z"
    }
   },
   "outputs": [],
   "source": [
    "!ls $path/pdr1_baseline"
   ]
  },
  {
   "cell_type": "code",
   "execution_count": null,
   "id": "724c84a5-5ab4-4be6-9447-379066a3ca0d",
   "metadata": {
    "execution": {
     "iopub.execute_input": "2025-04-23T15:59:22.711239Z",
     "iopub.status.busy": "2025-04-23T15:59:22.711006Z",
     "iopub.status.idle": "2025-04-23T15:59:22.747675Z",
     "shell.execute_reply": "2025-04-23T15:59:22.747073Z",
     "shell.execute_reply.started": "2025-04-23T15:59:22.711222Z"
    }
   },
   "outputs": [],
   "source": [
    "from rail.utils.path_utils import find_rail_file\n",
    "trainFile = find_rail_file('/sdf/data/rubin/shared/pz/projects/com_cam_plus_euclid/data/pdr1_baseline/output_estimate_bpz.hdf5')\n",
    "testFile = find_rail_file('/sdf/data/rubin/shared/pz/projects/com_cam_plus_euclid/data/pdr1_baseline/output_evaluate_bpz.hdf5')\n",
    "\n",
    "traindata_io = tables_io.read(trainFile)"
   ]
  },
  {
   "cell_type": "code",
   "execution_count": null,
   "id": "0c027d26-cbc0-4390-b717-b522bd852d73",
   "metadata": {
    "execution": {
     "iopub.execute_input": "2025-04-23T16:11:21.660324Z",
     "iopub.status.busy": "2025-04-23T16:11:21.660110Z",
     "iopub.status.idle": "2025-04-23T16:11:21.666592Z",
     "shell.execute_reply": "2025-04-23T16:11:21.666230Z",
     "shell.execute_reply.started": "2025-04-23T16:11:21.660307Z"
    }
   },
   "outputs": [],
   "source": [
    "traindata_io"
   ]
  },
  {
   "cell_type": "code",
   "execution_count": null,
   "id": "0d46686b-7dc2-4d62-b0de-03a503294b7a",
   "metadata": {
    "execution": {
     "iopub.execute_input": "2025-04-23T15:52:48.247474Z",
     "iopub.status.busy": "2025-04-23T15:52:48.247150Z",
     "iopub.status.idle": "2025-04-23T15:52:48.251833Z",
     "shell.execute_reply": "2025-04-23T15:52:48.251337Z",
     "shell.execute_reply.started": "2025-04-23T15:52:48.247448Z"
    }
   },
   "outputs": [],
   "source": [
    "find_rail_file?"
   ]
  },
  {
   "cell_type": "code",
   "execution_count": null,
   "id": "45be6012-c7af-4215-9f32-01b219b44e4a",
   "metadata": {
    "execution": {
     "iopub.execute_input": "2025-04-23T15:48:32.071903Z",
     "iopub.status.busy": "2025-04-23T15:48:32.071677Z",
     "iopub.status.idle": "2025-04-23T15:48:32.075400Z",
     "shell.execute_reply": "2025-04-23T15:48:32.074995Z",
     "shell.execute_reply.started": "2025-04-23T15:48:32.071886Z"
    }
   },
   "outputs": [],
   "source": [
    "trainFile"
   ]
  },
  {
   "cell_type": "code",
   "execution_count": null,
   "id": "abb02078-09e4-42f5-839d-f942601e1776",
   "metadata": {
    "execution": {
     "iopub.execute_input": "2025-04-23T15:27:59.751033Z",
     "iopub.status.busy": "2025-04-23T15:27:59.750822Z",
     "iopub.status.idle": "2025-04-23T15:27:59.753797Z",
     "shell.execute_reply": "2025-04-23T15:27:59.753371Z",
     "shell.execute_reply.started": "2025-04-23T15:27:59.751017Z"
    }
   },
   "outputs": [],
   "source": [
    "import h5py"
   ]
  },
  {
   "cell_type": "code",
   "execution_count": null,
   "id": "a1782f0d-be11-4c99-959a-e413d3bc7ded",
   "metadata": {
    "execution": {
     "iopub.execute_input": "2025-04-23T15:29:20.976565Z",
     "iopub.status.busy": "2025-04-23T15:29:20.976041Z",
     "iopub.status.idle": "2025-04-23T15:29:20.978971Z",
     "shell.execute_reply": "2025-04-23T15:29:20.978541Z",
     "shell.execute_reply.started": "2025-04-23T15:29:20.976545Z"
    }
   },
   "outputs": [],
   "source": [
    "filename = \"/sdf/data/rubin/shared/pz/projects/com_cam_plus_euclid/data/pdr1_baseline/output_estimate_bpz.hdf5\""
   ]
  },
  {
   "cell_type": "code",
   "execution_count": null,
   "id": "732b0bd5-8632-4cbd-a5a9-534b211a8c7f",
   "metadata": {
    "execution": {
     "iopub.execute_input": "2025-04-23T15:29:23.931675Z",
     "iopub.status.busy": "2025-04-23T15:29:23.930899Z",
     "iopub.status.idle": "2025-04-23T15:29:23.940241Z",
     "shell.execute_reply": "2025-04-23T15:29:23.939792Z",
     "shell.execute_reply.started": "2025-04-23T15:29:23.931654Z"
    }
   },
   "outputs": [],
   "source": [
    "with h5py.File(filename, \"r\") as f:\n",
    "    # Le fichier est maintenant ouvert en lecture seule\n",
    "    print(list(f.keys()))  # Affiche les groupes/datasets à la racine"
   ]
  },
  {
   "cell_type": "code",
   "execution_count": null,
   "id": "a99c8be6-59fa-4679-8f7f-e1f288e1f522",
   "metadata": {
    "execution": {
     "iopub.execute_input": "2025-04-23T15:31:25.135163Z",
     "iopub.status.busy": "2025-04-23T15:31:25.134875Z",
     "iopub.status.idle": "2025-04-23T15:31:25.144266Z",
     "shell.execute_reply": "2025-04-23T15:31:25.143844Z",
     "shell.execute_reply.started": "2025-04-23T15:31:25.135147Z"
    }
   },
   "outputs": [],
   "source": [
    "def print_structure(h5obj, indent=0):\n",
    "    for key in h5obj:\n",
    "        item = h5obj[key]\n",
    "        print(\"  \" * indent + key, \"-\", type(item))\n",
    "        if isinstance(item, h5py.Group):\n",
    "            print_structure(item, indent + 1)\n",
    "\n",
    "with h5py.File(filename, \"r\") as f:\n",
    "    print_structure(f)"
   ]
  },
  {
   "cell_type": "code",
   "execution_count": null,
   "id": "13c027e1-5181-4819-89c1-ebd955a21e0a",
   "metadata": {
    "execution": {
     "iopub.execute_input": "2025-04-23T16:13:55.684852Z",
     "iopub.status.busy": "2025-04-23T16:13:55.684517Z",
     "iopub.status.idle": "2025-04-23T16:13:56.087988Z",
     "shell.execute_reply": "2025-04-23T16:13:56.087332Z",
     "shell.execute_reply.started": "2025-04-23T16:13:55.684833Z"
    }
   },
   "outputs": [],
   "source": [
    "!ls /sdf/data/rubin/shared/pz/projects/com_cam_plus_euclid/data/pdr1_baseline"
   ]
  },
  {
   "cell_type": "code",
   "execution_count": null,
   "id": "5c8cbffa-890b-4650-82aa-db62a0b7a1e3",
   "metadata": {
    "execution": {
     "iopub.execute_input": "2025-04-23T16:14:46.137881Z",
     "iopub.status.busy": "2025-04-23T16:14:46.136988Z",
     "iopub.status.idle": "2025-04-23T16:14:46.140265Z",
     "shell.execute_reply": "2025-04-23T16:14:46.139906Z",
     "shell.execute_reply.started": "2025-04-23T16:14:46.137859Z"
    }
   },
   "outputs": [],
   "source": [
    "path_crenshaw =  \"/sdf/data/rubin/shared/pz/users/crenshaw/comcam_pz\"\n",
    "filename = os.path.join(path_crenshaw ,\"dp1_comcam_euclid_phot.parquet\")\n",
    "#-rw-r--r-- 1 crenshaw rubin_users 32827903 Apr  9 18:35 dp1_comcam_euclid_phot.parquet\n",
    "#-rw-r--r-- 1 crenshaw rubin_users   365510 Apr  9 18:35 dp1_comcam_euclid_spec_test.parquet\n",
    "#-rw-r--r-- 1 crenshaw rubin_users  2121634 Apr  9 18:35 dp1_comcam_euclid_spec_train.parquet"
   ]
  },
  {
   "cell_type": "code",
   "execution_count": null,
   "id": "7c1839ca-31a1-4415-94e9-ee9f305dc598",
   "metadata": {
    "execution": {
     "iopub.execute_input": "2025-04-23T16:29:51.063427Z",
     "iopub.status.busy": "2025-04-23T16:29:51.063148Z",
     "iopub.status.idle": "2025-04-23T16:29:51.065928Z",
     "shell.execute_reply": "2025-04-23T16:29:51.065606Z",
     "shell.execute_reply.started": "2025-04-23T16:29:51.063406Z"
    }
   },
   "outputs": [],
   "source": [
    "filename_phot = os.path.join(path_crenshaw,\"catalogs/dp1_comcam_euclid_phot.parquet\")\t\t\n",
    "filename_specz = os.path.join(path_crenshaw,\"catalogs/specz_catalog_ecdfs_20250409.parquet\")"
   ]
  },
  {
   "cell_type": "code",
   "execution_count": null,
   "id": "fa922a28-d9b0-4d9b-8653-3e22d147c15a",
   "metadata": {
    "execution": {
     "iopub.execute_input": "2025-04-23T16:27:40.858929Z",
     "iopub.status.busy": "2025-04-23T16:27:40.858575Z",
     "iopub.status.idle": "2025-04-23T16:27:40.934516Z",
     "shell.execute_reply": "2025-04-23T16:27:40.934126Z",
     "shell.execute_reply.started": "2025-04-23T16:27:40.858902Z"
    }
   },
   "outputs": [],
   "source": [
    "df1 = pd.read_parquet(filename_phot)"
   ]
  },
  {
   "cell_type": "code",
   "execution_count": null,
   "id": "344e2fb8-e553-4094-b15f-cb903748da53",
   "metadata": {
    "execution": {
     "iopub.execute_input": "2025-04-23T16:27:46.195270Z",
     "iopub.status.busy": "2025-04-23T16:27:46.195027Z",
     "iopub.status.idle": "2025-04-23T16:27:46.198870Z",
     "shell.execute_reply": "2025-04-23T16:27:46.198502Z",
     "shell.execute_reply.started": "2025-04-23T16:27:46.195255Z"
    }
   },
   "outputs": [],
   "source": [
    "df1.columns"
   ]
  },
  {
   "cell_type": "code",
   "execution_count": null,
   "id": "b3856111-62dc-4689-b339-cf44c893a527",
   "metadata": {
    "execution": {
     "iopub.execute_input": "2025-04-23T16:32:43.745708Z",
     "iopub.status.busy": "2025-04-23T16:32:43.745375Z",
     "iopub.status.idle": "2025-04-23T16:32:43.766963Z",
     "shell.execute_reply": "2025-04-23T16:32:43.766480Z",
     "shell.execute_reply.started": "2025-04-23T16:32:43.745691Z"
    }
   },
   "outputs": [],
   "source": [
    "df1"
   ]
  },
  {
   "cell_type": "code",
   "execution_count": null,
   "id": "7ba9ef3e-d354-44c5-a495-a933668b9fed",
   "metadata": {
    "execution": {
     "iopub.execute_input": "2025-04-23T16:30:40.442118Z",
     "iopub.status.busy": "2025-04-23T16:30:40.441875Z",
     "iopub.status.idle": "2025-04-23T16:30:40.454910Z",
     "shell.execute_reply": "2025-04-23T16:30:40.454462Z",
     "shell.execute_reply.started": "2025-04-23T16:30:40.442096Z"
    }
   },
   "outputs": [],
   "source": [
    "df2 = pd.read_parquet(filename_specz)"
   ]
  },
  {
   "cell_type": "code",
   "execution_count": null,
   "id": "d96aed3d-15ff-4ca3-8953-92ca07d028e4",
   "metadata": {
    "execution": {
     "iopub.execute_input": "2025-04-23T16:30:57.200870Z",
     "iopub.status.busy": "2025-04-23T16:30:57.200656Z",
     "iopub.status.idle": "2025-04-23T16:30:57.204444Z",
     "shell.execute_reply": "2025-04-23T16:30:57.204027Z",
     "shell.execute_reply.started": "2025-04-23T16:30:57.200854Z"
    }
   },
   "outputs": [],
   "source": [
    "df2.columns"
   ]
  },
  {
   "cell_type": "code",
   "execution_count": null,
   "id": "aee5d0e0-c3ad-4bb7-9abd-f13b0f1ebb01",
   "metadata": {
    "execution": {
     "iopub.execute_input": "2025-04-23T16:31:04.663768Z",
     "iopub.status.busy": "2025-04-23T16:31:04.663087Z",
     "iopub.status.idle": "2025-04-23T16:31:04.670634Z",
     "shell.execute_reply": "2025-04-23T16:31:04.670229Z",
     "shell.execute_reply.started": "2025-04-23T16:31:04.663748Z"
    }
   },
   "outputs": [],
   "source": [
    "df2"
   ]
  },
  {
   "cell_type": "code",
   "execution_count": null,
   "id": "97be5985-ca9e-4d88-a0e2-34a6162afc63",
   "metadata": {
    "execution": {
     "iopub.execute_input": "2025-04-23T16:31:31.484567Z",
     "iopub.status.busy": "2025-04-23T16:31:31.484190Z",
     "iopub.status.idle": "2025-04-23T16:31:31.487792Z",
     "shell.execute_reply": "2025-04-23T16:31:31.487389Z",
     "shell.execute_reply.started": "2025-04-23T16:31:31.484543Z"
    }
   },
   "outputs": [],
   "source": [
    "len(df2)"
   ]
  },
  {
   "cell_type": "code",
   "execution_count": null,
   "id": "7e4f5da9-39a1-475a-b2d1-6bec1269ef35",
   "metadata": {
    "execution": {
     "iopub.execute_input": "2025-04-23T16:37:05.076219Z",
     "iopub.status.busy": "2025-04-23T16:37:05.076008Z",
     "iopub.status.idle": "2025-04-23T16:37:05.079089Z",
     "shell.execute_reply": "2025-04-23T16:37:05.078688Z",
     "shell.execute_reply.started": "2025-04-23T16:37:05.076203Z"
    }
   },
   "outputs": [],
   "source": [
    "from rail.core.stage import RailStage\n",
    "from rail.core.data import TableHandle\n",
    "from rail.utils.path_utils import find_rail_file"
   ]
  },
  {
   "cell_type": "code",
   "execution_count": null,
   "id": "9f62dd15-1c2a-4347-b564-c9bb9463f12b",
   "metadata": {
    "execution": {
     "iopub.execute_input": "2025-04-23T16:42:15.018111Z",
     "iopub.status.busy": "2025-04-23T16:42:15.017885Z",
     "iopub.status.idle": "2025-04-23T16:42:15.020687Z",
     "shell.execute_reply": "2025-04-23T16:42:15.020292Z",
     "shell.execute_reply.started": "2025-04-23T16:42:15.018096Z"
    }
   },
   "outputs": [],
   "source": [
    "DS = RailStage.data_store"
   ]
  },
  {
   "cell_type": "code",
   "execution_count": null,
   "id": "4a83a468-17c2-4248-a198-e32844a0c049",
   "metadata": {
    "execution": {
     "iopub.execute_input": "2025-04-23T16:42:23.283091Z",
     "iopub.status.busy": "2025-04-23T16:42:23.282633Z",
     "iopub.status.idle": "2025-04-23T16:42:23.285540Z",
     "shell.execute_reply": "2025-04-23T16:42:23.285077Z",
     "shell.execute_reply.started": "2025-04-23T16:42:23.283071Z"
    }
   },
   "outputs": [],
   "source": [
    "example_file = find_rail_file(filename_phot)"
   ]
  },
  {
   "cell_type": "code",
   "execution_count": null,
   "id": "55fb41f3-c742-4807-9a2b-e2a7052acffe",
   "metadata": {
    "execution": {
     "iopub.execute_input": "2025-04-23T16:42:25.907784Z",
     "iopub.status.busy": "2025-04-23T16:42:25.907445Z",
     "iopub.status.idle": "2025-04-23T16:42:25.911220Z",
     "shell.execute_reply": "2025-04-23T16:42:25.910786Z",
     "shell.execute_reply.started": "2025-04-23T16:42:25.907757Z"
    }
   },
   "outputs": [],
   "source": [
    "example_file"
   ]
  },
  {
   "cell_type": "code",
   "execution_count": null,
   "id": "d3da3971-92a7-4e34-8feb-846242688596",
   "metadata": {
    "execution": {
     "iopub.execute_input": "2025-04-23T16:39:25.453322Z",
     "iopub.status.busy": "2025-04-23T16:39:25.452876Z",
     "iopub.status.idle": "2025-04-23T16:39:25.522934Z",
     "shell.execute_reply": "2025-04-23T16:39:25.522499Z",
     "shell.execute_reply.started": "2025-04-23T16:39:25.453295Z"
    }
   },
   "outputs": [],
   "source": [
    "tables_io.read(example_file)"
   ]
  },
  {
   "cell_type": "code",
   "execution_count": null,
   "id": "ed8e94d9-252a-4299-909c-dcb3eee8312b",
   "metadata": {
    "execution": {
     "iopub.execute_input": "2025-04-23T16:41:52.232660Z",
     "iopub.status.busy": "2025-04-23T16:41:52.232433Z",
     "iopub.status.idle": "2025-04-23T16:41:52.327273Z",
     "shell.execute_reply": "2025-04-23T16:41:52.326660Z",
     "shell.execute_reply.started": "2025-04-23T16:41:52.232644Z"
    }
   },
   "outputs": [],
   "source": [
    "test_data = DS.read_file(\"test_data\", TableHandle, example_file)"
   ]
  },
  {
   "cell_type": "code",
   "execution_count": null,
   "id": "9667e4ad-95b4-4d5b-bae7-76a417152a3e",
   "metadata": {
    "execution": {
     "iopub.execute_input": "2025-04-23T16:40:15.507659Z",
     "iopub.status.busy": "2025-04-23T16:40:15.507305Z",
     "iopub.status.idle": "2025-04-23T16:40:15.511049Z",
     "shell.execute_reply": "2025-04-23T16:40:15.510608Z",
     "shell.execute_reply.started": "2025-04-23T16:40:15.507631Z"
    }
   },
   "outputs": [],
   "source": [
    "test_data.info()"
   ]
  },
  {
   "cell_type": "code",
   "execution_count": null,
   "id": "9fcb53bf-3c35-4107-9210-ca820f14eadb",
   "metadata": {},
   "outputs": [],
   "source": []
  }
 ],
 "metadata": {
  "kernelspec": {
   "display_name": "LSST",
   "language": "python",
   "name": "lsst"
  },
  "language_info": {
   "codemirror_mode": {
    "name": "ipython",
    "version": 3
   },
   "file_extension": ".py",
   "mimetype": "text/x-python",
   "name": "python",
   "nbconvert_exporter": "python",
   "pygments_lexer": "ipython3",
   "version": "3.12.9"
  }
 },
 "nbformat": 4,
 "nbformat_minor": 5
}
